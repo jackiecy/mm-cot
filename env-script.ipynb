{
 "cells": [
  {
   "cell_type": "code",
   "execution_count": 2,
   "id": "67346345-57c4-45b1-9820-5086e6175c0f",
   "metadata": {},
   "outputs": [],
   "source": [
    "import subprocess\n",
    "import os\n",
    "\n",
    "result = subprocess.run('bash -c \"source /etc/network_turbo && env | grep proxy\"', shell=True, capture_output=True, text=True)\n",
    "output = result.stdout\n",
    "for line in output.splitlines():\n",
    "    if '=' in line:\n",
    "        var, value = line.split('=', 1)\n",
    "        os.environ[var] = value\n"
   ]
  },
  {
   "cell_type": "code",
   "execution_count": 4,
   "id": "e205b159-3ad6-4360-93db-b9b9fca2a5d1",
   "metadata": {},
   "outputs": [
    {
     "name": "stdout",
     "output_type": "stream",
     "text": [
      "* \u001b[32mcolab\u001b[m\n",
      "  main\u001b[m\n"
     ]
    }
   ],
   "source": [
    "!cd mm-cot && git branch"
   ]
  },
  {
   "cell_type": "code",
   "execution_count": null,
   "id": "e17e891c-e2af-47aa-abcb-5abe1d3477ba",
   "metadata": {},
   "outputs": [],
   "source": [
    "!git clone https://github.com/jackiecy/mm-cot.git\n",
    "!cd mm-cot && git checkout colab\n",
    "!pip install sentence_transformers rouge evaluate rouge_score accelerate rich sentencepiece\n",
    "!wget --no-check-certificate https://huggingface.co/cooelf/vision_features/resolve/main/detr.npy?download=true -O mm-cot/vision_features/detr.npy\n",
    "!mkdir mm-cot/data/scienceqa && wget https://github.com/lupantech/ScienceQA/raw/main/data/scienceqa/problems.json -O mm-cot/data/scienceqa/problems.json\n",
    "!wget https://github.com/lupantech/ScienceQA/raw/main/data/scienceqa/pid_splits.json -O mm-cot/data/scienceqa/pid_splits.json\n",
    "!wget --no-check-certificate https://huggingface.co/cooelf/vision_features/resolve/main/vit.pth?download=true -O vision_features/vit.pth\n"
   ]
  },
  {
   "cell_type": "code",
   "execution_count": null,
   "id": "e902be57-6499-48d8-8b48-6b48300c52b2",
   "metadata": {},
   "outputs": [],
   "source": [
    "!wget --no-check-certificate https://huggingface.co/cooelf/vision_features/resolve/main/vit.pth?download=true -O vision_features/vit.pth"
   ]
  },
  {
   "cell_type": "code",
   "execution_count": null,
   "id": "fbc51ca5-8d7f-44e5-b9e1-f5966dfb2a65",
   "metadata": {},
   "outputs": [],
   "source": [
    "!python main.py --data_root data --caption_file data/instruct_captions.json --model declare-lab/flan-alpaca-base --user_msg rationale --img_type vit --bs 4 --eval_bs 16 --epoch 50 --lr 5e-5 --output_len 512 --use_caption --use_generate --prompt_format QCM-E --output_dir experiments --evaluate_dir models/mm-cot-large-rationale"
   ]
  },
  {
   "cell_type": "code",
   "execution_count": 1,
   "id": "72a1ec71-c533-4b02-b624-53b0ca4c5d36",
   "metadata": {
    "tags": []
   },
   "outputs": [
    {
     "name": "stdout",
     "output_type": "stream",
     "text": [
      "{'format': 'pt'}\n"
     ]
    }
   ],
   "source": [
    "from safetensors.torch import load_file, safe_open, save\n",
    "import torch, os\n",
    "f_a = r\"/root/.cache/huggingface/hub/models--declare-lab--flan-alpaca-base/snapshots/c7a05e47b9704254fad4832b9a1efc4123799c65/model.safetensors\"\n",
    "f_b = \"/root/autodl-fs/init.bin\"\n",
    "save_to = r\"/root/.cache/huggingface/hub/models--declare-lab--flan-alpaca-base/snapshots/c7a05e47b9704254fad4832b9a1efc4123799c65/model.safetensors2\"\n",
    "with safe_open(f_a, framework=\"pt\") as f:\n",
    "    metadata = f.metadata()\n",
    "    print(metadata)\n",
    "a = load_file(f_a)\n",
    "b = torch.load(f_b)\n",
    "a.update(b)\n",
    "open(save_to, 'wb').write(save(a, metadata))\n",
    "os.renames(f_a, f_a + \"_no_init\")\n",
    "os.renames(save_to, f_a)\n"
   ]
  },
  {
   "cell_type": "code",
   "execution_count": null,
   "id": "27dcd4ba-4b21-4727-aefb-951bd5979905",
   "metadata": {},
   "outputs": [],
   "source": []
  }
 ],
 "metadata": {
  "kernelspec": {
   "display_name": "Python 3 (ipykernel)",
   "language": "python",
   "name": "python3"
  },
  "language_info": {
   "codemirror_mode": {
    "name": "ipython",
    "version": 3
   },
   "file_extension": ".py",
   "mimetype": "text/x-python",
   "name": "python",
   "nbconvert_exporter": "python",
   "pygments_lexer": "ipython3",
   "version": "3.8.10"
  }
 },
 "nbformat": 4,
 "nbformat_minor": 5
}
