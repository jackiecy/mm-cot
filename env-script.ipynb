{
 "cells": [
  {
   "cell_type": "code",
   "execution_count": 2,
   "id": "67346345-57c4-45b1-9820-5086e6175c0f",
   "metadata": {},
   "outputs": [],
   "source": [
    "import subprocess\n",
    "import os\n",
    "\n",
    "result = subprocess.run('bash -c \"source /etc/network_turbo && env | grep proxy\"', shell=True, capture_output=True, text=True)\n",
    "output = result.stdout\n",
    "for line in output.splitlines():\n",
    "    if '=' in line:\n",
    "        var, value = line.split('=', 1)\n",
    "        os.environ[var] = value\n"
   ]
  },
  {
   "cell_type": "code",
   "execution_count": 4,
   "id": "e205b159-3ad6-4360-93db-b9b9fca2a5d1",
   "metadata": {},
   "outputs": [
    {
     "name": "stdout",
     "output_type": "stream",
     "text": [
      "* \u001b[32mcolab\u001b[m\n",
      "  main\u001b[m\n"
     ]
    }
   ],
   "source": [
    "!cd mm-cot && git branch"
   ]
  },
  {
   "cell_type": "code",
   "execution_count": null,
   "id": "e17e891c-e2af-47aa-abcb-5abe1d3477ba",
   "metadata": {},
   "outputs": [],
   "source": [
    "!git clone https://github.com/jackiecy/mm-cot.git\n",
    "!cd mm-cot && git checkout colab\n",
    "!pip install sentence_transformers rouge evaluate rouge_score accelerate rich sentencepiece\n",
    "!wget --no-check-certificate https://huggingface.co/cooelf/vision_features/resolve/main/detr.npy?download=true -O mm-cot/vision_features/detr.npy\n",
    "!mkdir mm-cot/data/scienceqa && wget https://github.com/lupantech/ScienceQA/raw/main/data/scienceqa/problems.json -O mm-cot/data/scienceqa/problems.json\n",
    "!wget https://github.com/lupantech/ScienceQA/raw/main/data/scienceqa/pid_splits.json -O mm-cot/data/scienceqa/pid_splits.json\n",
    "!wget --no-check-certificate https://huggingface.co/cooelf/vision_features/resolve/main/vit.pth?download=true -O vision_features/vit.pth\n"
   ]
  },
  {
   "cell_type": "code",
   "execution_count": 3,
   "id": "e902be57-6499-48d8-8b48-6b48300c52b2",
   "metadata": {},
   "outputs": [
    {
     "name": "stdout",
     "output_type": "stream",
     "text": [
      "--2024-04-02 20:31:09--  https://huggingface.co/cooelf/vision_features/resolve/main/vit.pth?download=true\n",
      "Connecting to 10.200.3.253:12798... connected.\n",
      "WARNING: cannot verify huggingface.co's certificate, issued by ‘emailAddress=autodl@gmail.com,CN=autodl,OU=autodl,O=AutoDL,L=Lavinia,ST=Westen,C=AU’:\n",
      "  Self-signed certificate encountered.\n",
      "Proxy request sent, awaiting response... 302 Found\n",
      "Location: https://cdn-lfs.huggingface.co/repos/0a/0f/0a0fc2c76d3b648a99008bc75723f283174b6a671a92aefe7c761a277366b911/ea17b1459e051f1b9ab28cf0b9169b0d48f0547e053126fbcee68c79310426d8?response-content-disposition=attachment%3B+filename*%3DUTF-8%27%27vit.pth%3B+filename%3D%22vit.pth%22%3B&Expires=1712320270&Policy=eyJTdGF0ZW1lbnQiOlt7IkNvbmRpdGlvbiI6eyJEYXRlTGVzc1RoYW4iOnsiQVdTOkVwb2NoVGltZSI6MTcxMjMyMDI3MH19LCJSZXNvdXJjZSI6Imh0dHBzOi8vY2RuLWxmcy5odWdnaW5nZmFjZS5jby9yZXBvcy8wYS8wZi8wYTBmYzJjNzZkM2I2NDhhOTkwMDhiYzc1NzIzZjI4MzE3NGI2YTY3MWE5MmFlZmU3Yzc2MWEyNzczNjZiOTExL2VhMTdiMTQ1OWUwNTFmMWI5YWIyOGNmMGI5MTY5YjBkNDhmMDU0N2UwNTMxMjZmYmNlZTY4Yzc5MzEwNDI2ZDg%7EcmVzcG9uc2UtY29udGVudC1kaXNwb3NpdGlvbj0qIn1dfQ__&Signature=AnBymSO%7EJwXPcFuJcu7u5z9Sv7KmJ3C-hTXiHHWxfkR3A%7Eibd%7EA8EZXVBnr9AvNXp6kRWR%7E9kdh86-RqX1qqKUtnPeWqkJtJ4EPVQT8WjI33z8beZFUCw4z5ekzmjzAA7V0qESKXuj0eNQwNFIdmw2ryab8JduyDK6KVoh7jIupgPhnO%7EVMZ3cEoH1dLc-tuJND%7EQFFMUXDDSsIs0MpztSE2pJNXOkqIccAm1gPycQc%7Ehqhm4bxPR9wXSTz4VUjEPrX8wyA3tLG51Om3ErPd9gM0lSeGGnKbSkXRtC117ZrV7YuydlMg0FwJorZmAh6jZsZ2GUoVxIHjxtTwysUveg__&Key-Pair-Id=KVTP0A1DKRTAX [following]\n",
      "--2024-04-02 20:31:10--  https://cdn-lfs.huggingface.co/repos/0a/0f/0a0fc2c76d3b648a99008bc75723f283174b6a671a92aefe7c761a277366b911/ea17b1459e051f1b9ab28cf0b9169b0d48f0547e053126fbcee68c79310426d8?response-content-disposition=attachment%3B+filename*%3DUTF-8%27%27vit.pth%3B+filename%3D%22vit.pth%22%3B&Expires=1712320270&Policy=eyJTdGF0ZW1lbnQiOlt7IkNvbmRpdGlvbiI6eyJEYXRlTGVzc1RoYW4iOnsiQVdTOkVwb2NoVGltZSI6MTcxMjMyMDI3MH19LCJSZXNvdXJjZSI6Imh0dHBzOi8vY2RuLWxmcy5odWdnaW5nZmFjZS5jby9yZXBvcy8wYS8wZi8wYTBmYzJjNzZkM2I2NDhhOTkwMDhiYzc1NzIzZjI4MzE3NGI2YTY3MWE5MmFlZmU3Yzc2MWEyNzczNjZiOTExL2VhMTdiMTQ1OWUwNTFmMWI5YWIyOGNmMGI5MTY5YjBkNDhmMDU0N2UwNTMxMjZmYmNlZTY4Yzc5MzEwNDI2ZDg%7EcmVzcG9uc2UtY29udGVudC1kaXNwb3NpdGlvbj0qIn1dfQ__&Signature=AnBymSO%7EJwXPcFuJcu7u5z9Sv7KmJ3C-hTXiHHWxfkR3A%7Eibd%7EA8EZXVBnr9AvNXp6kRWR%7E9kdh86-RqX1qqKUtnPeWqkJtJ4EPVQT8WjI33z8beZFUCw4z5ekzmjzAA7V0qESKXuj0eNQwNFIdmw2ryab8JduyDK6KVoh7jIupgPhnO%7EVMZ3cEoH1dLc-tuJND%7EQFFMUXDDSsIs0MpztSE2pJNXOkqIccAm1gPycQc%7Ehqhm4bxPR9wXSTz4VUjEPrX8wyA3tLG51Om3ErPd9gM0lSeGGnKbSkXRtC117ZrV7YuydlMg0FwJorZmAh6jZsZ2GUoVxIHjxtTwysUveg__&Key-Pair-Id=KVTP0A1DKRTAX\n",
      "Connecting to 10.200.3.253:12798... connected.\n",
      "WARNING: cannot verify cdn-lfs.huggingface.co's certificate, issued by ‘emailAddress=autodl@gmail.com,CN=autodl,OU=autodl,O=AutoDL,L=Lavinia,ST=Westen,C=AU’:\n",
      "  Self-signed certificate encountered.\n",
      "Proxy request sent, awaiting response... 200 OK\n",
      "Length: 6656656153 (6.2G) [binary/octet-stream]\n",
      "Saving to: ‘vision_features/vit.pth’\n",
      "\n",
      "vision_features/vit 100%[===================>]   6.20G  1001KB/s    in 39m 54s \n",
      "\n",
      "2024-04-02 21:11:06 (2.65 MB/s) - ‘vision_features/vit.pth’ saved [6656656153/6656656153]\n",
      "\n"
     ]
    }
   ],
   "source": [
    "!wget --no-check-certificate https://huggingface.co/cooelf/vision_features/resolve/main/vit.pth?download=true -O vision_features/vit.pth"
   ]
  },
  {
   "cell_type": "code",
   "execution_count": 8,
   "id": "fbc51ca5-8d7f-44e5-b9e1-f5966dfb2a65",
   "metadata": {},
   "outputs": [
    {
     "name": "stdout",
     "output_type": "stream",
     "text": [
      "args Namespace(data_root='data', output_dir='experiments', model='declare-lab/flan-alpaca-base', options=['A', 'B', 'C', 'D', 'E'], epoch=50, lr=5e-05, bs=4, input_len=512, output_len=512, eval_bs=16, eval_acc=None, train_split='train', val_split='val', test_split='test', use_generate=True, final_eval=False, user_msg='rationale', img_type='vit', eval_le=None, test_le=None, evaluate_dir='models/mm-cot-large-rationale', caption_file='data/instruct_captions.json', use_caption=True, prompt_format='QCM-E', seed=42)\n",
      "====Input Arguments====\n",
      "{\n",
      "  \"data_root\": \"data\",\n",
      "  \"output_dir\": \"experiments\",\n",
      "  \"model\": \"declare-lab/flan-alpaca-base\",\n",
      "  \"options\": [\n",
      "    \"A\",\n",
      "    \"B\",\n",
      "    \"C\",\n",
      "    \"D\",\n",
      "    \"E\"\n",
      "  ],\n",
      "  \"epoch\": 50,\n",
      "  \"lr\": 5e-05,\n",
      "  \"bs\": 4,\n",
      "  \"input_len\": 512,\n",
      "  \"output_len\": 512,\n",
      "  \"eval_bs\": 16,\n",
      "  \"eval_acc\": null,\n",
      "  \"train_split\": \"train\",\n",
      "  \"val_split\": \"val\",\n",
      "  \"test_split\": \"test\",\n",
      "  \"use_generate\": true,\n",
      "  \"final_eval\": false,\n",
      "  \"user_msg\": \"rationale\",\n",
      "  \"img_type\": \"vit\",\n",
      "  \"eval_le\": null,\n",
      "  \"test_le\": null,\n",
      "  \"evaluate_dir\": \"models/mm-cot-large-rationale\",\n",
      "  \"caption_file\": \"data/instruct_captions.json\",\n",
      "  \"use_caption\": true,\n",
      "  \"prompt_format\": \"QCM-E\",\n",
      "  \"seed\": 42\n",
      "}\n",
      "10\n",
      "Traceback (most recent call last):\n",
      "  File \"/root/mm-cot/main.py\", line 374, in <module>\n",
      "    problems, qids, name_maps, image_features = load_data_img(args)  # probelms, test question ids, shot example ids\n",
      "  File \"/root/mm-cot/utils_data.py\", line 50, in load_data_img\n",
      "    image_features = torch.load(\"vision_features/vit.pth\")\n",
      "  File \"/root/miniconda3/lib/python3.10/site-packages/torch/serialization.py\", line 986, in load\n",
      "    with _open_file_like(f, 'rb') as opened_file:\n",
      "  File \"/root/miniconda3/lib/python3.10/site-packages/torch/serialization.py\", line 435, in _open_file_like\n",
      "    return _open_file(name_or_buffer, mode)\n",
      "  File \"/root/miniconda3/lib/python3.10/site-packages/torch/serialization.py\", line 416, in __init__\n",
      "    super().__init__(open(name, mode))\n",
      "FileNotFoundError: [Errno 2] No such file or directory: 'vision_features/vit.pth'\n"
     ]
    }
   ],
   "source": [
    "!python main.py --data_root data --caption_file data/instruct_captions.json --model declare-lab/flan-alpaca-base --user_msg rationale --img_type vit --bs 4 --eval_bs 16 --epoch 50 --lr 5e-5 --output_len 512 --use_caption --use_generate --prompt_format QCM-E --output_dir experiments --evaluate_dir models/mm-cot-large-rationale"
   ]
  },
  {
   "cell_type": "code",
   "execution_count": 1,
   "id": "72a1ec71-c533-4b02-b624-53b0ca4c5d36",
   "metadata": {},
   "outputs": [
    {
     "name": "stdout",
     "output_type": "stream",
     "text": [
      "/root/mm-cot\n"
     ]
    }
   ],
   "source": [
    "!pwd"
   ]
  }
 ],
 "metadata": {
  "kernelspec": {
   "display_name": "Python 3 (ipykernel)",
   "language": "python",
   "name": "python3"
  },
  "language_info": {
   "codemirror_mode": {
    "name": "ipython",
    "version": 3
   },
   "file_extension": ".py",
   "mimetype": "text/x-python",
   "name": "python",
   "nbconvert_exporter": "python",
   "pygments_lexer": "ipython3",
   "version": "3.10.8"
  }
 },
 "nbformat": 4,
 "nbformat_minor": 5
}
